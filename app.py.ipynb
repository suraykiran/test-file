{
 "cells": [
  {
   "cell_type": "code",
   "execution_count": 1,
   "id": "c76fa5c8",
   "metadata": {},
   "outputs": [
    {
     "name": "stdout",
     "output_type": "stream",
     "text": [
      " * Serving Flask app '__main__'\n",
      " * Debug mode: off\n"
     ]
    },
    {
     "name": "stderr",
     "output_type": "stream",
     "text": [
      "WARNING: This is a development server. Do not use it in a production deployment. Use a production WSGI server instead.\n",
      " * Running on http://127.0.0.1:5000\n",
      "Press CTRL+C to quit\n",
      "127.0.0.1 - - [10/May/2024 11:43:36] \"GET / HTTP/1.1\" 200 -\n",
      "127.0.0.1 - - [10/May/2024 11:43:40] \"GET /favicon.ico HTTP/1.1\" 404 -\n",
      "c:\\Users\\surya\\AppData\\Local\\Programs\\Python\\Python311\\Lib\\site-packages\\sklearn\\base.py:464: UserWarning: X does not have valid feature names, but RandomForestClassifier was fitted with feature names\n",
      "  warnings.warn(\n",
      "127.0.0.1 - - [10/May/2024 11:43:56] \"POST /predict HTTP/1.1\" 200 -\n",
      "127.0.0.1 - - [10/May/2024 11:43:56] \"GET /static/cotton.jpg HTTP/1.1\" 200 -\n",
      "127.0.0.1 - - [10/May/2024 11:43:56] \"GET /static/background.jpg HTTP/1.1\" 200 -\n",
      "127.0.0.1 - - [10/May/2024 11:43:58] \"GET / HTTP/1.1\" 200 -\n",
      "c:\\Users\\surya\\AppData\\Local\\Programs\\Python\\Python311\\Lib\\site-packages\\sklearn\\base.py:464: UserWarning: X does not have valid feature names, but RandomForestClassifier was fitted with feature names\n",
      "  warnings.warn(\n",
      "127.0.0.1 - - [10/May/2024 11:44:20] \"POST /predict HTTP/1.1\" 200 -\n",
      "127.0.0.1 - - [10/May/2024 11:44:20] \"GET /static/cotton.jpg HTTP/1.1\" 304 -\n",
      "127.0.0.1 - - [10/May/2024 11:44:20] \"GET /static/background.jpg HTTP/1.1\" 304 -\n",
      "127.0.0.1 - - [10/May/2024 11:44:21] \"GET / HTTP/1.1\" 200 -\n",
      "c:\\Users\\surya\\AppData\\Local\\Programs\\Python\\Python311\\Lib\\site-packages\\sklearn\\base.py:464: UserWarning: X does not have valid feature names, but RandomForestClassifier was fitted with feature names\n",
      "  warnings.warn(\n",
      "127.0.0.1 - - [10/May/2024 11:44:37] \"POST /predict HTTP/1.1\" 200 -\n",
      "127.0.0.1 - - [10/May/2024 11:44:37] \"GET /static/cotton.jpg HTTP/1.1\" 304 -\n",
      "127.0.0.1 - - [10/May/2024 11:44:37] \"GET /static/background.jpg HTTP/1.1\" 304 -\n",
      "127.0.0.1 - - [10/May/2024 11:44:38] \"GET / HTTP/1.1\" 200 -\n",
      "c:\\Users\\surya\\AppData\\Local\\Programs\\Python\\Python311\\Lib\\site-packages\\sklearn\\base.py:464: UserWarning: X does not have valid feature names, but RandomForestClassifier was fitted with feature names\n",
      "  warnings.warn(\n",
      "127.0.0.1 - - [10/May/2024 11:48:48] \"POST /predict HTTP/1.1\" 200 -\n",
      "127.0.0.1 - - [10/May/2024 11:48:48] \"GET /static/cotton.jpg HTTP/1.1\" 304 -\n",
      "127.0.0.1 - - [10/May/2024 11:48:48] \"GET /static/background.jpg HTTP/1.1\" 304 -\n",
      "127.0.0.1 - - [10/May/2024 11:48:49] \"GET / HTTP/1.1\" 200 -\n",
      "c:\\Users\\surya\\AppData\\Local\\Programs\\Python\\Python311\\Lib\\site-packages\\sklearn\\base.py:464: UserWarning: X does not have valid feature names, but RandomForestClassifier was fitted with feature names\n",
      "  warnings.warn(\n",
      "127.0.0.1 - - [10/May/2024 11:49:05] \"POST /predict HTTP/1.1\" 200 -\n",
      "127.0.0.1 - - [10/May/2024 11:49:05] \"GET /static/background.jpg HTTP/1.1\" 304 -\n",
      "127.0.0.1 - - [10/May/2024 11:49:05] \"GET /static/apple.jpg HTTP/1.1\" 200 -\n",
      "127.0.0.1 - - [10/May/2024 11:49:08] \"GET / HTTP/1.1\" 200 -\n",
      "c:\\Users\\surya\\AppData\\Local\\Programs\\Python\\Python311\\Lib\\site-packages\\sklearn\\base.py:464: UserWarning: X does not have valid feature names, but RandomForestClassifier was fitted with feature names\n",
      "  warnings.warn(\n",
      "127.0.0.1 - - [10/May/2024 11:49:35] \"POST /predict HTTP/1.1\" 200 -\n",
      "127.0.0.1 - - [10/May/2024 11:49:35] \"GET /static/apple.jpg HTTP/1.1\" 304 -\n",
      "127.0.0.1 - - [10/May/2024 11:49:35] \"GET /static/background.jpg HTTP/1.1\" 304 -\n",
      "127.0.0.1 - - [10/May/2024 11:49:37] \"GET / HTTP/1.1\" 200 -\n",
      "c:\\Users\\surya\\AppData\\Local\\Programs\\Python\\Python311\\Lib\\site-packages\\sklearn\\base.py:464: UserWarning: X does not have valid feature names, but RandomForestClassifier was fitted with feature names\n",
      "  warnings.warn(\n",
      "127.0.0.1 - - [10/May/2024 11:51:04] \"POST /predict HTTP/1.1\" 200 -\n",
      "127.0.0.1 - - [10/May/2024 11:51:04] \"GET /static/apple.jpg HTTP/1.1\" 304 -\n",
      "127.0.0.1 - - [10/May/2024 11:51:04] \"GET /static/background.jpg HTTP/1.1\" 304 -\n",
      "127.0.0.1 - - [10/May/2024 11:51:05] \"GET / HTTP/1.1\" 200 -\n",
      "127.0.0.1 - - [10/May/2024 11:51:33] \"GET / HTTP/1.1\" 200 -\n",
      "c:\\Users\\surya\\AppData\\Local\\Programs\\Python\\Python311\\Lib\\site-packages\\sklearn\\base.py:464: UserWarning: X does not have valid feature names, but RandomForestClassifier was fitted with feature names\n",
      "  warnings.warn(\n",
      "127.0.0.1 - - [10/May/2024 11:51:40] \"POST /predict HTTP/1.1\" 200 -\n",
      "127.0.0.1 - - [10/May/2024 11:51:40] \"GET /static/apple.jpg HTTP/1.1\" 304 -\n",
      "127.0.0.1 - - [10/May/2024 11:51:40] \"GET /static/background.jpg HTTP/1.1\" 304 -\n",
      "127.0.0.1 - - [10/May/2024 11:51:42] \"GET / HTTP/1.1\" 200 -\n",
      "c:\\Users\\surya\\AppData\\Local\\Programs\\Python\\Python311\\Lib\\site-packages\\sklearn\\base.py:464: UserWarning: X does not have valid feature names, but RandomForestClassifier was fitted with feature names\n",
      "  warnings.warn(\n",
      "127.0.0.1 - - [10/May/2024 11:51:47] \"POST /predict HTTP/1.1\" 200 -\n",
      "127.0.0.1 - - [10/May/2024 11:51:47] \"GET /static/apple.jpg HTTP/1.1\" 304 -\n",
      "127.0.0.1 - - [10/May/2024 11:51:47] \"GET /static/background.jpg HTTP/1.1\" 304 -\n",
      "127.0.0.1 - - [10/May/2024 11:53:08] \"GET / HTTP/1.1\" 200 -\n",
      "c:\\Users\\surya\\AppData\\Local\\Programs\\Python\\Python311\\Lib\\site-packages\\sklearn\\base.py:464: UserWarning: X does not have valid feature names, but RandomForestClassifier was fitted with feature names\n",
      "  warnings.warn(\n",
      "127.0.0.1 - - [10/May/2024 11:53:17] \"POST /predict HTTP/1.1\" 200 -\n",
      "127.0.0.1 - - [10/May/2024 11:53:17] \"GET /static/background.jpg HTTP/1.1\" 304 -\n",
      "127.0.0.1 - - [10/May/2024 11:53:17] \"GET /static/cotton.jpg HTTP/1.1\" 304 -\n",
      "127.0.0.1 - - [10/May/2024 11:53:59] \"GET / HTTP/1.1\" 200 -\n"
     ]
    }
   ],
   "source": [
    "import numpy as np\n",
    "import pickle\n",
    "from flask import Flask, request, jsonify, render_template\n",
    "import math\n",
    "app = Flask(__name__)\n",
    "\n",
    "modl = pickle.load(open('rfmodel.pkl','rb'))\n",
    "modl = pickle.load(open('rfmodel.pkl','rb'))\n",
    "@app.route('/')\n",
    "def Home():\n",
    "    return render_template('ne.html')\n",
    "@app.route('/predict',methods=['GET','POST'])\n",
    "def predict():\n",
    "    n = request.form['N']\n",
    "    p = request.form['P']\n",
    "    k = request.form['K']\n",
    "    tem = float(request.form['temperature'])\n",
    "    hum = float(request.form['humidity'])\n",
    "    ph = float(request.form['ph'])\n",
    "    rain = float(request.form['rainfall'])\n",
    "    values = np.array([[n,p,k,tem,hum,ph,rain]])\n",
    "    \n",
    "    result = modl.predict(values)\n",
    "    return render_template('res.html',predicted_crop=result)\n",
    "\n",
    "if __name__==\"__main__\":\n",
    "    app.run()"
   ]
  },
  {
   "cell_type": "code",
   "execution_count": null,
   "id": "0c6d8469",
   "metadata": {},
   "outputs": [],
   "source": []
  },
  {
   "cell_type": "code",
   "execution_count": null,
   "id": "cb1015bb",
   "metadata": {},
   "outputs": [],
   "source": []
  },
  {
   "cell_type": "code",
   "execution_count": null,
   "id": "f75f11b0",
   "metadata": {},
   "outputs": [],
   "source": []
  }
 ],
 "metadata": {
  "kernelspec": {
   "display_name": "Python 3",
   "language": "python",
   "name": "python3"
  },
  "language_info": {
   "codemirror_mode": {
    "name": "ipython",
    "version": 3
   },
   "file_extension": ".py",
   "mimetype": "text/x-python",
   "name": "python",
   "nbconvert_exporter": "python",
   "pygments_lexer": "ipython3",
   "version": "3.11.4"
  }
 },
 "nbformat": 4,
 "nbformat_minor": 5
}
