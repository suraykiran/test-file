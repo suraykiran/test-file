{
 "cells": [
  {
   "cell_type": "code",
   "execution_count": 7,
   "id": "0e47f610",
   "metadata": {},
   "outputs": [],
   "source": [
    "import pandas as pd\n",
    "import warnings\n",
    "from sklearn.preprocessing import StandardScaler\n",
    "from sklearn.ensemble import RandomForestClassifier\n",
    "from sklearn.model_selection import train_test_split\n",
    "import pickle\n",
    "\n",
    "warnings.filterwarnings('ignore')\n",
    "\n",
    "df = pd.read_csv(\"crop_recommendation.csv\")\n",
    "\n",
    "x = df[['N','P','K','temperature','humidity','ph','rainfall']]\n",
    "y = df['label']\n",
    "\n",
    "x_train, x_test, y_train, y_test = train_test_split(x,y,test_size=0.2, random_state=2)\n",
    "\n",
    "RF = RandomForestClassifier(n_estimators=2, random_state=0)\n",
    "\n",
    "RF.fit(x_train,y_train)\n",
    "\n",
    "RF_pkl_filename = 'rfmodel.pkl'\n",
    "\n",
    "RF_Model_pkl = open(RF_pkl_filename,'wb')\n",
    "        \n",
    "pickle.dump(RF,RF_Model_pkl)\n",
    "\n",
    "RF_Model_pkl.close()\n",
    "\n",
    "\n",
    "        \n",
    "\n",
    "\n"
   ]
  },
  {
   "cell_type": "code",
   "execution_count": null,
   "id": "dc2f0f14",
   "metadata": {},
   "outputs": [],
   "source": []
  },
  {
   "cell_type": "code",
   "execution_count": null,
   "id": "9e3d2599",
   "metadata": {},
   "outputs": [],
   "source": []
  }
 ],
 "metadata": {
  "kernelspec": {
   "display_name": "Python 3 (ipykernel)",
   "language": "python",
   "name": "python3"
  },
  "language_info": {
   "codemirror_mode": {
    "name": "ipython",
    "version": 3
   },
   "file_extension": ".py",
   "mimetype": "text/x-python",
   "name": "python",
   "nbconvert_exporter": "python",
   "pygments_lexer": "ipython3",
   "version": "3.11.4"
  }
 },
 "nbformat": 4,
 "nbformat_minor": 5
}
